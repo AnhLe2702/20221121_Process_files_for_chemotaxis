{
 "cells": [
  {
   "cell_type": "code",
   "execution_count": 2,
   "id": "da033c30",
   "metadata": {},
   "outputs": [],
   "source": [
    "# import libraries\n",
    "import pandas as pd\n",
    "import glob\n",
    "# define folder directory to look in. Change to xlsx if Excel file.\n",
    "path =r'/Users/hoanganhle/Desktop/Trial' \n",
    "allFiles = glob.glob(path + \"/*.csv\")\n",
    "# make a list of all the files in the folder\n",
    "list_ = []\n",
    "for file_ in allFiles:\n",
    "    # define sheet name and place data starts\n",
    "    df = pd.read_csv(file_, dtype=str, header=0)\n",
    "    # create a variable with the filename\n",
    "    df['filename']= file_\n",
    "    # extract the date from the filename using string slice\n",
    "    df['date'] = df['filename'].str[-12:-4]\n",
    "# stack each file all on top of the other\n",
    "    list_.append(df)\n",
    "stack = pd.concat(list_, axis=0)\n",
    "# output to excel or another database \n",
    "stack.to_csv(r'/Users/hoanganhle/Desktop/Trial/filename.csv')"
   ]
  },
  {
   "cell_type": "code",
   "execution_count": 3,
   "id": "6c16502d",
   "metadata": {},
   "outputs": [],
   "source": [
    "#Removing the first column which has no title\n",
    "#Importing the previously saved filename.csv\n",
    "data = pd.read_csv(r'/Users/hoanganhle/Desktop/Trial/filename.csv')\n",
    "#Indexing the first column\n",
    "first_column = data.columns[0]\n",
    "#Removing the first column with the drop()\n",
    "data = data.drop([first_column], axis=1)\n",
    "#Save the new csv file as filename_2 to the designated directory\n",
    "data.to_csv(r'/Users/hoanganhle/Desktop/Trial/filename_2.csv', index=False)"
   ]
  },
  {
   "cell_type": "code",
   "execution_count": 35,
   "id": "7f0a0a4b",
   "metadata": {},
   "outputs": [],
   "source": [
    "#Importing the previously saved filename_2.csv\n",
    "data = pd.read_csv(r'/Users/hoanganhle/Desktop/Trial/filename_2.csv')\n",
    "#Convert the PID column into string type to allow assigning function to work downstream in the if command\n",
    "data['PID'] = data['PID'].astype(str)\n",
    "#Create a loop where whenever the value in PID is 1, increase the value in the new column called \"number\" by 1\n",
    "counter = 0\n",
    "data = data.assign(number = 0)\n",
    "for i, row in data.iterrows():\n",
    "    if row['PID'] == '1':\n",
    "        counter += 1\n",
    "    data.loc[i, 'number'] = counter\n",
    "#Match the values of the TID column with the values of the \"number\" column\n",
    "data['TID'] = data['number'].values\n",
    "#Delete the number column as it is not needed anymore\n",
    "del data[\"number\"]\n",
    "#Save the file as filename_3\n",
    "data.to_csv(r'/Users/hoanganhle/Desktop/Trial/filename_3.csv', index=False)"
   ]
  },
  {
   "cell_type": "code",
   "execution_count": null,
   "id": "aad30cd6",
   "metadata": {},
   "outputs": [],
   "source": []
  }
 ],
 "metadata": {
  "kernelspec": {
   "display_name": "Python 3 (ipykernel)",
   "language": "python",
   "name": "python3"
  },
  "language_info": {
   "codemirror_mode": {
    "name": "ipython",
    "version": 3
   },
   "file_extension": ".py",
   "mimetype": "text/x-python",
   "name": "python",
   "nbconvert_exporter": "python",
   "pygments_lexer": "ipython3",
   "version": "3.9.12"
  }
 },
 "nbformat": 4,
 "nbformat_minor": 5
}
